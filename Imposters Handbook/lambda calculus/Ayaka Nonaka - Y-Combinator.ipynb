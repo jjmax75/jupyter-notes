{
 "cells": [
  {
   "cell_type": "code",
   "execution_count": null,
   "metadata": {},
   "outputs": [],
   "source": []
  },
  {
   "cell_type": "markdown",
   "metadata": {},
   "source": [
    "# Ayaka Nonaka Lambda Calculus\n",
    "https://medium.com/@ayanonagon/the-y-combinator-no-not-that-one-7268d8d9c46\n",
    "\n",
    "## The Y-Combinator\n",
    "$ λf.(λx.f(x x))(λx.f(x x)) $\n",
    "\n",
    "## Basics\n",
    "Invented by Alonzo Church in 1930\n",
    "\n",
    "<img src=\"https://upload.wikimedia.org/wikipedia/en/a/a6/Alonzo_Church.jpg\" title=\"Alonzo Church\" />\n",
    "\n",
    "A formal system for expressing calculations\n",
    "\n",
    "### Valid λ-calculus expressions\n",
    "Valid λ-calculus expressions can be defined inductively\n",
    "1. A variable *x* is a valid λ-term\n",
    "2. If *t* is a valid λ-term and *x* is a variable then **λx.t** is a valid λ-term\n",
    "3. If *t* and *s* are valid λ-terms then **ts** is a valid λ-term\n",
    "\n",
    "### Examples of valid λ-terms\n",
    "1. *x* or *y*\n",
    "2. *çx.x* or *λx.y* or *λy.y* or *λy.x*\n",
    "3. *xx* or *xy* or *yy* or *yx* or *(λx.x)y* or *(λx.y)x* or *(λx.y)(λx.x)*, etc...\n",
    "\n",
    "## Going deeper\n",
    "\n",
    "### Identity Function\n",
    "λx.x is known as the **identity function**\n",
    "\n",
    "First x in identity function is the input, second x is the output\n",
    "\n",
    "So it takes in a value x and returns the same value"
   ]
  },
  {
   "cell_type": "code",
   "execution_count": 1,
   "metadata": {},
   "outputs": [],
   "source": [
    "const IdentityFunction = x => x;"
   ]
  },
  {
   "cell_type": "code",
   "execution_count": 2,
   "metadata": {},
   "outputs": [
    {
     "data": {
      "text/plain": [
       "5"
      ]
     },
     "execution_count": 2,
     "metadata": {},
     "output_type": "execute_result"
    }
   ],
   "source": [
    "IdentityFunction(5);"
   ]
  },
  {
   "cell_type": "markdown",
   "metadata": {},
   "source": [
    "### Constant Function\n",
    "λx.y is known as the **constant function**\n",
    "\n",
    "It takes in a value x and always returns y\n",
    "x is ignored, y is always returned"
   ]
  },
  {
   "cell_type": "code",
   "execution_count": 3,
   "metadata": {},
   "outputs": [],
   "source": [
    "const ConstantFunction = x => y;"
   ]
  },
  {
   "cell_type": "code",
   "execution_count": 4,
   "metadata": {},
   "outputs": [
    {
     "data": {
      "text/plain": [
       "4"
      ]
     },
     "execution_count": 4,
     "metadata": {},
     "output_type": "execute_result"
    }
   ],
   "source": [
    "const y = 4;\n",
    "ConstantFunction(6);"
   ]
  },
  {
   "cell_type": "markdown",
   "metadata": {},
   "source": [
    "### Alpha Equivalent α\n",
    "λx.x and λy.y are α-Equivalent\n",
    "\n",
    "They are both the Identity Function\n",
    "\n",
    "### Bound vs Free Variables\n",
    "A bound variable is a variable that occurs in the body of a lambda function with an argument of the same name.\n",
    "\n",
    "A free variable is any variable that isn't a bound variable.\n",
    "\n",
    "Bound variables can be renamed so long as it is done consistently.\n",
    "\n",
    "That is you rename the argument and its occurrences in the body of the lambda.\n",
    "\n",
    "#### Example"
   ]
  },
  {
   "cell_type": "code",
   "execution_count": null,
   "metadata": {},
   "outputs": [],
   "source": [
    "const m = horrible_variable_name => horrible_variable_name * y;"
   ]
  },
  {
   "cell_type": "markdown",
   "metadata": {},
   "source": [
    "We can rename the bound variable **horrible_variable_name** but not the free variable y."
   ]
  },
  {
   "cell_type": "code",
   "execution_count": null,
   "metadata": {},
   "outputs": [],
   "source": [
    "const m = x => x * y;"
   ]
  }
 ],
 "metadata": {
  "kernelspec": {
   "display_name": "Javascript (Node.js)",
   "language": "javascript",
   "name": "javascript"
  },
  "language_info": {
   "file_extension": ".js",
   "mimetype": "application/javascript",
   "name": "javascript",
   "version": "8.9.4"
  }
 },
 "nbformat": 4,
 "nbformat_minor": 2
}
